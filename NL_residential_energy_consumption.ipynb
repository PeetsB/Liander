{
 "cells": [
  {
   "cell_type": "markdown",
   "metadata": {},
   "source": [
    "# Analysis of average energy consumption <br/>of 10000 households in The Netherlands"
   ]
  },
  {
   "cell_type": "markdown",
   "metadata": {},
   "source": [
    "## Data sets"
   ]
  },
  {
   "cell_type": "markdown",
   "metadata": {},
   "source": [
    "The datasets are retrieved from [Liander](https://www.liander.nl/), an energy Distribution System Operator (DSO) in The Netherlands. The following datasets are available on Liander web page [Innovation and Data services](https://www.liander.nl/over-liander/innovatie/open-data/data):\n",
    "\n",
    "* __Energy consumption per year__<br>includes energy consumption for natural gas supplies with a maximum capacity of 40 m3/h and for electrity supplies with a maximum capacity of 3x80 ampère.\n",
    "* __Energy consumption per year per housing archtype__<br>includes standard consumption for natural gas and electricity for the following housing archetypes\n",
    "    * semi-detached - duplex home\n",
    "    * apartement\n",
    "    * terraced home\n",
    "    * detached home\n",
    "* __Day profiles of energy consumption for one year__<br>includes averaged hourly natural gas and electricity consumption of 10000 households, estimated for energy demand in 2009. The hourly data can be combined with above datasets to calculate hourly specific energy consumption per year and per per housing archetype.\n",
    "* __Smart meter data of 80 households__<br>includes real energy consumption data of 80 households recorded in 2013."
   ]
  },
  {
   "cell_type": "markdown",
   "metadata": {},
   "source": [
    "## Day profiles of energy consumption for one year\n",
    "This dataset estimates the yearly energy consumption of electricity and natural per hour for 10000 households.The consumption data are normalised based on average temperature profiles of the last 20 years (refernence year 2009). \n",
    "N.B.: The datasets are based on existing data (measured or calculated) and are primarily used for consumption estimates for energy allocation and/or reconciliation processes.\n",
    "\n",
    "### File structures\n",
    "The data are provided as CSV file. Note that decimal-dots are \"comma's\"."
   ]
  },
  {
   "cell_type": "markdown",
   "metadata": {},
   "source": [
    "#### Eletricity consumption data\n",
    "The filename for the day profiles of electricity consumption is: _dagprofielen elektriciteit.csv_\n",
    "##### Row 1 Start date of data set\n",
    "Row 1 contains the start date and time of the data set.\n",
    "> 12-31-2008 00:15:00;;;;;;\n",
    "\n",
    "##### Row 2 Headers\n",
    "The headers for the data are provided in row 2 and shown here\n",
    "> Date & time;Dag;Profile E1a \\[kWh\\];Profile E1b \\[kWh\\];Totaal;;uurfractie E\n",
    "\n",
    "##### Row 3 ff Data\n",
    "\n",
    "> 01-01-2009 01:00:00;1,00;2082,463124;2131,541477;4214,004602;;0,00013489<br/>\n",
    "> 01-01-2009 02:00:00;1,00;1727,261471;1849,974698;3577,236169;;0,00011450<br/>\n",
    "> 01-01-2009 03:00:00;1,00;1354,83595;1427,024814;2781,860764;;0,00008905<br/>\n",
    "\n",
    "###### Column 1: Date & Time\n",
    "Date & time character string in the format dd-mm-yyyy hh:mm:ss. The timezone used is UTC+1. Hence, no daylight saving time is applied, i.e. continuous wintertime is shown. The time is the end time of the hourly period.\n",
    "###### Column 2: Dag / Day\n",
    "Number of each day in a year, i.e. 1 to 365 (or 366).\n",
    "###### Column 3: Profile E1a \\[kWh\\]\n",
    "Estimated energy consumption of customers with an electricity connection with a maximum capacity of 3x 25 Ampère and a single meter. Note that it is unknown how many records fall into this category.\n",
    "###### Column 4: Profile E1b \\[kWh\\]\n",
    "Estimated energy consumption of customers with an electricity connection with a maximum capacity of 3x 25 Ampère and a double meter for day and night tariffs. Note that it is unknown how many records fall into this category.\n",
    "###### Column 5: Totaal / Total\n",
    "Sum of Profiles E1a and E1b, i.e. the total hourly electricity consumption of 10,000 households.\n",
    "###### Column 6: empty\n",
    "Contains no data.\n",
    "###### Column 7: uurfractie E / hour fraction E\n",
    "Ratio of estimated hourly electricity consumption over the estimated yearly total energy consumption."
   ]
  },
  {
   "cell_type": "markdown",
   "metadata": {},
   "source": [
    "#### Natural gas consumption data\n",
    "The filename for the day profiles of electricity consumption is: _dagprofielen elektriciteit.csv_\n",
    "##### Row 1\n",
    "Row 1 contains the start date and time of the data set.\n",
    "##### Row 2\n",
    "This row is empty\n",
    "##### Row 3 Headers\n",
    "###### Column 1: Date and Time \n",
    "Date & time character string in the format dd-mm-yyyy hh:mm:ss. The timezone used is UTC+1. Hence, no daylight saving time is applied, i.e. continuous wintertime is shown. The time is the end time of the hourly period.\n",
    "Note that the title for Column 1 natural gas consumption data differs from the title for electricity consumption data.\n",
    "\n",
    "| Data set           | Natural gas  | Electricity|\n",
    "|:------------------ |:------------ | ---------- |\n",
    "| Column 1 field name| Date and time| Date & time|\n",
    "\n",
    "###### Column 2: Dag / Day\n",
    "Number of each day in a year, i.e. 1 to 365 (or 366).\n",
    "###### Column 3: G1a profiled demand [MJ]\n",
    "The ratio of hourly profiles multiplied by the standard year natural gas consumption of all households in Megajoules (MJ). Note the the calorific value (chemical composition) and pressure of natural gas differs per region and fluctuates over time (within a given Wobbe band). The data refers to small consumers with less than 5000 m3 (n;35,17 MJ/m3) gas consumption per year and a gas meter ≤ G6. Note that it is unknown how many records fall into this category. Additional information over natural gas profiles can be found on [EDSN](https://www.edsn.nl/).\n",
    "###### Column 4: G2a profiled demand [MJ]\n",
    "Similar to Column3 G1a profiled demand customers, but with a different profile. Note that it is unknown how many records fall into this category. \n",
    "###### Column 5: Totaal / Total\n",
    "Sum of Profiles G1a and G2a, i.e. the total hourly natural gas consumption of 10,000 households.\n",
    "###### Column 6: uurfracie G / hour fraction G\n",
    "Ratio of estimated hourly natural gas consumption over the estimated yearly total natural gas consumption"
   ]
  },
  {
   "cell_type": "code",
   "execution_count": 1,
   "metadata": {},
   "outputs": [
    {
     "name": "stderr",
     "output_type": "stream",
     "text": [
      "Loading required package: ggplot\n",
      "Warning message in library(package, lib.loc = lib.loc, character.only = TRUE, logical.return = TRUE, :\n",
      "“there is no package called ‘ggplot’”Warning message:\n",
      "“package ‘ggplot’ is not available (for R version 3.4.2)”"
     ]
    },
    {
     "ename": "ERROR",
     "evalue": "Error in library(ggplot): there is no package called ‘ggplot’\n",
     "output_type": "error",
     "traceback": [
      "Error in library(ggplot): there is no package called ‘ggplot’\nTraceback:\n",
      "1. library(ggplot)   # at line 4 of file <text>",
      "2. stop(txt, domain = NA)"
     ]
    }
   ],
   "source": [
    "# load reaquired libraries\n",
    "if (!require(\"ggplot\")) {\n",
    "  install.packages(\"ggplot\")\n",
    "  library(ggplot)\n",
    "}"
   ]
  },
  {
   "cell_type": "code",
   "execution_count": null,
   "metadata": {},
   "outputs": [],
   "source": []
  }
 ],
 "metadata": {
  "_draft": {
   "nbviewer_url": "https://gist.github.com/2704a70f9cd12064ff827a0bebf29a1f"
  },
  "gist": {
   "data": {
    "description": "R/NL_residential_energy_consumption.ipynb",
    "public": false
   },
   "id": "2704a70f9cd12064ff827a0bebf29a1f"
  },
  "kernelspec": {
   "display_name": "R",
   "language": "R",
   "name": "ir"
  },
  "language_info": {
   "codemirror_mode": "r",
   "file_extension": ".r",
   "mimetype": "text/x-r-source",
   "name": "R",
   "pygments_lexer": "r",
   "version": "3.4.2"
  },
  "toc": {
   "nav_menu": {},
   "number_sections": true,
   "sideBar": true,
   "skip_h1_title": true,
   "title_cell": "Table of Contents",
   "title_sidebar": "Contents",
   "toc_cell": false,
   "toc_position": {
    "height": "456px",
    "left": "981px",
    "top": "136px",
    "width": "256px"
   },
   "toc_section_display": true,
   "toc_window_display": true
  }
 },
 "nbformat": 4,
 "nbformat_minor": 2
}
