{
 "cells": [
  {
   "cell_type": "markdown",
   "metadata": {},
   "source": [
    "# Analysis of average energy consumption <br/>of 10000 households in The Netherlands\n",
    "---"
   ]
  },
  {
   "cell_type": "markdown",
   "metadata": {},
   "source": [
    "## Datasets"
   ]
  },
  {
   "cell_type": "markdown",
   "metadata": {
    "slideshow": {
     "slide_type": "-"
    }
   },
   "source": [
    "The datasets are retrieved from [Liander](https://www.liander.nl/), an energy Distribution System Operator (DSO) in The Netherlands. The following datasets are available on Liander web page [Innovation and Data services](https://www.liander.nl/over-liander/innovatie/open-data/data):\n",
    "\n",
    "* __Energy consumption per year__<br>includes energy consumption for natural gas supplies with a maximum capacity of 40 m3/h and for electrity supplies with a maximum capacity of 3x80 ampère.\n",
    "* __Energy consumption per year per housing archtype__<br>includes standard consumption for natural gas and electricity for the following housing archetypes\n",
    "    * semi-detached - duplex home\n",
    "    * apartement\n",
    "    * terraced home\n",
    "    * detached home\n",
    "* __Day profiles of energy consumption for one year__<br>includes averaged hourly natural gas and electricity consumption of 10000 households, estimated for energy demand in 2009. The hourly data can be combined with above datasets to calculate hourly specific energy consumption per year and per per housing archetype.\n",
    "* __Smart meter data of 80 households__<br>includes real energy consumption data of 80 households recorded in 2013."
   ]
  },
  {
   "cell_type": "markdown",
   "metadata": {},
   "source": [
    "## Day profiles of energy consumption for one year\n",
    "This dataset estimates the yearly energy consumption of electricity and natural per hour for 10000 households.The consumption data are normalised based on average temperature profiles of the last 20 years (refernence year 2009). \n",
    "N.B.: The datasets are based on existing data (measured or calculated) and are primarily used for consumption estimates for energy allocation and/or reconciliation processes.\n",
    "\n",
    "### File names\n",
    "|          |   | <p align=\"left\">Electricity consumption data   | <p align=\"left\">Natural gas consumption data    |\n",
    "| -------- | - |----------------------------------------------- | ------------------------------------------------|\n",
    "| Filename || <p align=\"left\">_dagprofielen elektriciteit.csv_  | <p align=\"left\"> _dagprofielen gas.csv_         |\n",
    "    \n",
    "### File structures\n",
    "The data are provided as CSV file. Note that decimal-dots are \"comma's\".\n",
    "    \n",
    "| Row | Column | <p align=\"left\">Electricity consumption data   | <p align=\"left\">Natural gas consumption data    |\n",
    "| --- | ------ |----------------------------------------------- | ------------------------------------------------| \n",
    "| 1   |        | <p align=\"left\"> contains the start date and time of the data set.<br/>This data set refers to the year __2009__ | <p align=\"left\"> contains the start date and time of the data set.<br/>This data set refers to the year __2008__|\n",
    "| 2   |        | <p align=\"left\">__Headers__                  | <p align=\"left\">__Headers__                   | \n",
    "|     | 1      | <p align=\"left\">__Date & time__<br/> Character string in the format dd-mm-yyyy hh:mm:ss. The timezone used is UTC+1. Hence, no daylight saving time is applied, i.e. continuous wintertime is shown. The time is the end time of the hourly period. | <p align=\"left\">__Date and time__<br/>Same as for Electricity consumption data but different header name: \"Date and time\"|\n",
    "|     | 2      | <p align=\"left\">__Dag/Day__<br/> Number of each day in a year, i.e. 1 to 365 (or 366). ||\n",
    "|     | 3      | <p align=\"left\">__Profile E1a \\[kWh\\]__<br/>Estimated energy consumption of customers with an electricity connection with a maximum capacity of 3x 25 Ampère and a single meter. Note that it is unknown how many records fall into this category.  | <p align=\"left\">__G1a profiled demand \\[MJ\\]__<br/>The ratio of hourly profiles multiplied by the standard year natural gas consumption of all households in Megajoules (MJ). Note the the calorific value (chemical composition) and pressure of natural gas differs per region and fluctuates over time (within a given Wobbe band). The data refers to small consumers with less than 5000 m3 (n;35,17 MJ/m3) gas consumption per year and a gas meter ≤ G6. Note that it is unknown how many records fall into this category. Additional information over natural gas profiles can be found on [EDSN](https://www.edsn.nl/). |\n",
    "|     | 4      | <p align=\"left\">__Profile E1b \\[kWh\\]__<br/>Estimated energy consumption of customers with an electricity connection with a maximum capacity of 3x 25 Ampère and a double meter for day and night tariffs. Note that it is unknown how many records fall into this category.  | <p align=\"left\">__G2a profiled demand \\[MJ\\]__<br/>Similar to Column3 G1a profiled demand customers, but with a different profile. Note that it is unknown how many records fall into this category. |\n",
    "|     | 5      | <p align=\"left\">__Totaal / Total__<br/>Sum of Profiles E1a and E1b, i.e. the total hourly electricity consumption of 10,000 households.  | <p align=\"left\">__Totaal / Total__<br/>Sum of Profiles G1a and G2a, i.e. the total hourly natural gas consumption of 10,000 households. |\n",
    "|     | 6      | <p align=\"left\">__Contains no data.__<br/>  | <p align=\"left\">__uurfracie G / hour fraction G__<br/>Ratio of estimated hourly natural gas consumption over the estimated yearly total natural gas consumption. |\n",
    "|     | 7      | <p align=\"left\">__uurfracie E / hour fraction E__<br/>Ratio of estimated hourly electricity consumption over the estimated yearly total energy consumption.  ||\n",
    "| 3 ff |       | <p align=\"left\">__Data__ for example<br/>01-01-2009 09:00:00;1,00;1672,66506;1407,983823;3080,648883;;0,00009861<br/>01-01-2009 10:00:00;1,00;1978,957428;1654,017414;3632,974842;;0,00011629<br/>01-01-2009 11:00:00;1,00;2278,587734;2311,156494;4589,744227;;0,00014691                            ||\n",
    "| n-1 |        | <p align=\"left\">__EMPTY<br/> ;;;;;; ||\n",
    "| n   |        | <p align=\"left\">__Summary__ for example<br/> ;;;;31240940,35;;1                            ||"
   ]
  },
  {
   "cell_type": "code",
   "execution_count": null,
   "metadata": {},
   "outputs": [],
   "source": []
  }
 ],
 "metadata": {
  "kernelspec": {
   "display_name": "R",
   "language": "R",
   "name": "ir"
  },
  "language_info": {
   "codemirror_mode": "r",
   "file_extension": ".r",
   "mimetype": "text/x-r-source",
   "name": "R",
   "pygments_lexer": "r",
   "version": "3.4.2"
  },
  "toc": {
   "nav_menu": {},
   "number_sections": true,
   "sideBar": true,
   "skip_h1_title": true,
   "title_cell": "Table of Contents",
   "title_sidebar": "Contents",
   "toc_cell": false,
   "toc_position": {},
   "toc_section_display": true,
   "toc_window_display": true
  }
 },
 "nbformat": 4,
 "nbformat_minor": 2
}
